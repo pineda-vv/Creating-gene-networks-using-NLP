{
 "cells": [
  {
   "cell_type": "code",
   "execution_count": 1,
   "metadata": {
    "collapsed": true
   },
   "outputs": [],
   "source": [
    "import pandas as pd\n",
    "import numpy as np"
   ]
  },
  {
   "cell_type": "code",
   "execution_count": 2,
   "metadata": {
    "collapsed": true
   },
   "outputs": [],
   "source": [
    "genes = pd.read_csv('~/Downloads/uniprot-all.tsv', sep='\\t')"
   ]
  },
  {
   "cell_type": "code",
   "execution_count": 9,
   "metadata": {
    "collapsed": false
   },
   "outputs": [
    {
     "data": {
      "text/html": [
       "<div>\n",
       "<style>\n",
       "    .dataframe thead tr:only-child th {\n",
       "        text-align: right;\n",
       "    }\n",
       "\n",
       "    .dataframe thead th {\n",
       "        text-align: left;\n",
       "    }\n",
       "\n",
       "    .dataframe tbody tr th {\n",
       "        vertical-align: top;\n",
       "    }\n",
       "</style>\n",
       "<table border=\"1\" class=\"dataframe\">\n",
       "  <thead>\n",
       "    <tr style=\"text-align: right;\">\n",
       "      <th></th>\n",
       "      <th>Entry</th>\n",
       "      <th>Protein names</th>\n",
       "      <th>Gene names</th>\n",
       "      <th>Organism</th>\n",
       "      <th>list</th>\n",
       "    </tr>\n",
       "  </thead>\n",
       "  <tbody>\n",
       "    <tr>\n",
       "      <th>0</th>\n",
       "      <td>Q29836</td>\n",
       "      <td>HLA class I histocompatibility antigen, B-67 a...</td>\n",
       "      <td>HLA-B HLAB</td>\n",
       "      <td>Homo sapiens (Human)</td>\n",
       "      <td>[HLA-B, HLAB]</td>\n",
       "    </tr>\n",
       "    <tr>\n",
       "      <th>1</th>\n",
       "      <td>P30501</td>\n",
       "      <td>HLA class I histocompatibility antigen, Cw-2 a...</td>\n",
       "      <td>HLA-C HLAC</td>\n",
       "      <td>Homo sapiens (Human)</td>\n",
       "      <td>[HLA-C, HLAC]</td>\n",
       "    </tr>\n",
       "    <tr>\n",
       "      <th>2</th>\n",
       "      <td>P30508</td>\n",
       "      <td>HLA class I histocompatibility antigen, Cw-12 ...</td>\n",
       "      <td>HLA-C HLAC</td>\n",
       "      <td>Homo sapiens (Human)</td>\n",
       "      <td>[HLA-C, HLAC]</td>\n",
       "    </tr>\n",
       "    <tr>\n",
       "      <th>3</th>\n",
       "      <td>Q29960</td>\n",
       "      <td>HLA class I histocompatibility antigen, Cw-16 ...</td>\n",
       "      <td>HLA-C HLAC</td>\n",
       "      <td>Homo sapiens (Human)</td>\n",
       "      <td>[HLA-C, HLAC]</td>\n",
       "    </tr>\n",
       "    <tr>\n",
       "      <th>4</th>\n",
       "      <td>Q29865</td>\n",
       "      <td>HLA class I histocompatibility antigen, Cw-18 ...</td>\n",
       "      <td>HLA-C HLAC</td>\n",
       "      <td>Homo sapiens (Human)</td>\n",
       "      <td>[HLA-C, HLAC]</td>\n",
       "    </tr>\n",
       "  </tbody>\n",
       "</table>\n",
       "</div>"
      ],
      "text/plain": [
       "    Entry                                      Protein names  Gene names  \\\n",
       "0  Q29836  HLA class I histocompatibility antigen, B-67 a...  HLA-B HLAB   \n",
       "1  P30501  HLA class I histocompatibility antigen, Cw-2 a...  HLA-C HLAC   \n",
       "2  P30508  HLA class I histocompatibility antigen, Cw-12 ...  HLA-C HLAC   \n",
       "3  Q29960  HLA class I histocompatibility antigen, Cw-16 ...  HLA-C HLAC   \n",
       "4  Q29865  HLA class I histocompatibility antigen, Cw-18 ...  HLA-C HLAC   \n",
       "\n",
       "               Organism           list  \n",
       "0  Homo sapiens (Human)  [HLA-B, HLAB]  \n",
       "1  Homo sapiens (Human)  [HLA-C, HLAC]  \n",
       "2  Homo sapiens (Human)  [HLA-C, HLAC]  \n",
       "3  Homo sapiens (Human)  [HLA-C, HLAC]  \n",
       "4  Homo sapiens (Human)  [HLA-C, HLAC]  "
      ]
     },
     "execution_count": 9,
     "metadata": {},
     "output_type": "execute_result"
    }
   ],
   "source": [
    "genes.head()"
   ]
  },
  {
   "cell_type": "code",
   "execution_count": 4,
   "metadata": {
    "collapsed": false
   },
   "outputs": [
    {
     "data": {
      "text/html": [
       "<div>\n",
       "<style>\n",
       "    .dataframe thead tr:only-child th {\n",
       "        text-align: right;\n",
       "    }\n",
       "\n",
       "    .dataframe thead th {\n",
       "        text-align: left;\n",
       "    }\n",
       "\n",
       "    .dataframe tbody tr th {\n",
       "        vertical-align: top;\n",
       "    }\n",
       "</style>\n",
       "<table border=\"1\" class=\"dataframe\">\n",
       "  <thead>\n",
       "    <tr style=\"text-align: right;\">\n",
       "      <th></th>\n",
       "      <th>Entry</th>\n",
       "      <th>Protein names</th>\n",
       "      <th>Gene names</th>\n",
       "      <th>Organism</th>\n",
       "    </tr>\n",
       "  </thead>\n",
       "  <tbody>\n",
       "    <tr>\n",
       "      <th>159738</th>\n",
       "      <td>A0A141AZE8</td>\n",
       "      <td>MHC class I antigen (Fragment)</td>\n",
       "      <td>HLA-C</td>\n",
       "      <td>Homo sapiens (Human)</td>\n",
       "    </tr>\n",
       "    <tr>\n",
       "      <th>159739</th>\n",
       "      <td>A0A143FYI7</td>\n",
       "      <td>NADH-ubiquinone oxidoreductase chain 1 (EC 1.6...</td>\n",
       "      <td>ND1</td>\n",
       "      <td>Homo sapiens (Human)</td>\n",
       "    </tr>\n",
       "    <tr>\n",
       "      <th>159740</th>\n",
       "      <td>A0A0S4XRI7</td>\n",
       "      <td>MHC class I antigen</td>\n",
       "      <td>HLA-A</td>\n",
       "      <td>Homo sapiens (Human)</td>\n",
       "    </tr>\n",
       "    <tr>\n",
       "      <th>159741</th>\n",
       "      <td>A0A0G2JQN5</td>\n",
       "      <td>1,2-dihydroxy-3-keto-5-methylthiopentene dioxy...</td>\n",
       "      <td>ADI1</td>\n",
       "      <td>Homo sapiens (Human)</td>\n",
       "    </tr>\n",
       "    <tr>\n",
       "      <th>159742</th>\n",
       "      <td>A0A0U4BH10</td>\n",
       "      <td>Alpha 1-3-galactosyltransferase (EC 2.4.1.87) ...</td>\n",
       "      <td>ABO</td>\n",
       "      <td>Homo sapiens (Human)</td>\n",
       "    </tr>\n",
       "  </tbody>\n",
       "</table>\n",
       "</div>"
      ],
      "text/plain": [
       "             Entry                                      Protein names  \\\n",
       "159738  A0A141AZE8                     MHC class I antigen (Fragment)   \n",
       "159739  A0A143FYI7  NADH-ubiquinone oxidoreductase chain 1 (EC 1.6...   \n",
       "159740  A0A0S4XRI7                                MHC class I antigen   \n",
       "159741  A0A0G2JQN5  1,2-dihydroxy-3-keto-5-methylthiopentene dioxy...   \n",
       "159742  A0A0U4BH10  Alpha 1-3-galactosyltransferase (EC 2.4.1.87) ...   \n",
       "\n",
       "       Gene names              Organism  \n",
       "159738      HLA-C  Homo sapiens (Human)  \n",
       "159739        ND1  Homo sapiens (Human)  \n",
       "159740      HLA-A  Homo sapiens (Human)  \n",
       "159741       ADI1  Homo sapiens (Human)  \n",
       "159742        ABO  Homo sapiens (Human)  "
      ]
     },
     "execution_count": 4,
     "metadata": {},
     "output_type": "execute_result"
    }
   ],
   "source": [
    "genes[]"
   ]
  },
  {
   "cell_type": "code",
   "execution_count": 7,
   "metadata": {
    "collapsed": true
   },
   "outputs": [],
   "source": [
    "def gene_split(gene_names):\n",
    "    return str(gene_names).split(\" \")"
   ]
  },
  {
   "cell_type": "code",
   "execution_count": 8,
   "metadata": {
    "collapsed": false
   },
   "outputs": [],
   "source": [
    "genes['list'] = genes[\"Gene names\"].apply(gene_split)"
   ]
  },
  {
   "cell_type": "code",
   "execution_count": null,
   "metadata": {
    "collapsed": false
   },
   "outputs": [],
   "source": [
    "genes['list'].value_counts()"
   ]
  },
  {
   "cell_type": "code",
   "execution_count": null,
   "metadata": {
    "collapsed": true
   },
   "outputs": [],
   "source": [
    "def sep_genes(gene_list):\n",
    "    "
   ]
  }
 ],
 "metadata": {
  "anaconda-cloud": {},
  "kernelspec": {
   "display_name": "Python [conda root]",
   "language": "python",
   "name": "conda-root-py"
  },
  "language_info": {
   "codemirror_mode": {
    "name": "ipython",
    "version": 2
   },
   "file_extension": ".py",
   "mimetype": "text/x-python",
   "name": "python",
   "nbconvert_exporter": "python",
   "pygments_lexer": "ipython2",
   "version": "2.7.12"
  }
 },
 "nbformat": 4,
 "nbformat_minor": 1
}
